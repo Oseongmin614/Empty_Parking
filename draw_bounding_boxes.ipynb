{
 "cells": [
  {
   "cell_type": "code",
   "execution_count": 2,
   "id": "89b62029-43d6-4f64-aa1b-ff4da990564c",
   "metadata": {},
   "outputs": [],
   "source": [
    "import cv2\n",
    "import os\n",
    "import yaml\n",
    "from tqdm import tqdm"
   ]
  },
  {
   "cell_type": "code",
   "execution_count": 3,
   "id": "e4aa42a7-4c12-4711-aa98-be0f766948f6",
   "metadata": {},
   "outputs": [],
   "source": [
    "INPUT_BASE_DIR = 'C:/Empty_Parking/PKLot.v2-640.yolov8'\n",
    "OUTPUT_BASE_DIR = 'C:/Empty_Parking/bounding_box'\n",
    "DATA_YAML_PATH = os.path.join(INPUT_BASE_DIR, 'data.yaml')\n"
   ]
  },
  {
   "cell_type": "code",
   "execution_count": 4,
   "id": "d4eaa6aa-08d7-4ce9-a407-248847520b68",
   "metadata": {},
   "outputs": [],
   "source": [
    "def draw_boxes_for_split(split_name):\n",
    "    \"\"\"Processes all images in a given split (train, valid, or test).\"\"\"\n",
    "    print(f\"\\nProcessing '{split_name}' split...\")\n",
    "\n",
    "    # Define paths for the current split\n",
    "    image_dir = os.path.join(INPUT_BASE_DIR, split_name, 'images')\n",
    "    label_dir = os.path.join(INPUT_BASE_DIR, split_name, 'labels')\n",
    "    output_dir = os.path.join(OUTPUT_BASE_DIR, split_name)\n",
    "\n",
    "    # Create output directory if it doesn't exist\n",
    "    os.makedirs(output_dir, exist_ok=True)\n",
    "\n",
    "    if not os.path.exists(image_dir):\n",
    "        print(f\"Warning: Image directory not found for '{split_name}' split. Skipping.\")\n",
    "        return\n",
    "\n",
    "    image_files = [f for f in os.listdir(image_dir) if f.endswith(('.jpg', '.jpeg', '.png'))]\n",
    "\n",
    "    for image_name in tqdm(image_files, desc=f\"Drawing boxes on {split_name} images\"):\n",
    "        image_path = os.path.join(image_dir, image_name)\n",
    "        label_path = os.path.join(label_dir, os.path.splitext(image_name)[0] + '.txt')\n",
    "\n",
    "        # Read the image\n",
    "        image = cv2.imread(image_path)\n",
    "        if image is None:\n",
    "            continue\n",
    "        h, w, _ = image.shape\n",
    "\n",
    "        # Check if the label file exists\n",
    "        if not os.path.exists(label_path):\n",
    "            # If no label, save a copy of the original image\n",
    "            output_path = os.path.join(output_dir, image_name)\n",
    "            cv2.imwrite(output_path, image)\n",
    "            continue\n",
    "\n",
    "        # Read labels and draw boxes\n",
    "        with open(label_path, 'r') as f:\n",
    "            for line in f.readlines():\n",
    "                try:\n",
    "                    class_id, x_center, y_center, width, height = map(float, line.strip().split())\n",
    "                except ValueError:\n",
    "                    continue # Skip malformed lines\n",
    "\n",
    "                # Convert YOLO format to pixel coordinates\n",
    "                box_w = int(width * w)\n",
    "                box_h = int(height * h)\n",
    "                center_x = int(x_center * w)\n",
    "                center_y = int(y_center * h)\n",
    "                x1 = center_x - box_w // 2\n",
    "                y1 = center_y - box_h // 2\n",
    "                x2 = x1 + box_w\n",
    "                y2 = y1 + box_h\n",
    "\n",
    "                # Get class name and color\n",
    "                class_name = CLASS_NAMES.get(int(class_id), 'Unknown')\n",
    "                color = CLASS_COLORS.get(class_name, (0, 0, 0)) # Default to black\n",
    "\n",
    "                # Draw rectangle and label\n",
    "                cv2.rectangle(image, (x1, y1), (x2, y2), color, 2)\n",
    "                cv2.putText(image, class_name, (x1, y1 - 10), cv2.FONT_HERSHEY_SIMPLEX, 0.7, color, 2)\n",
    "\n",
    "        # Save the new image\n",
    "        output_path = os.path.join(output_dir, image_name)\n",
    "        cv2.imwrite(output_path, image)\n"
   ]
  },
  {
   "cell_type": "code",
   "execution_count": 5,
   "id": "25e8ece0-589e-45a4-8575-7eb466f72074",
   "metadata": {},
   "outputs": [
    {
     "name": "stdout",
     "output_type": "stream",
     "text": [
      "Output will be saved to: C:/Empty_Parking/bounding_box\n",
      "\n",
      "Processing 'train' split...\n"
     ]
    },
    {
     "name": "stderr",
     "output_type": "stream",
     "text": [
      "Drawing boxes on train images: 100%|████████████████████████████████████████████| 34197/34197 [05:06<00:00, 111.54it/s]\n"
     ]
    },
    {
     "name": "stdout",
     "output_type": "stream",
     "text": [
      "\n",
      "Processing 'valid' split...\n"
     ]
    },
    {
     "name": "stderr",
     "output_type": "stream",
     "text": [
      "Drawing boxes on valid images: 100%|██████████████████████████████████████████████| 2483/2483 [00:19<00:00, 129.22it/s]\n"
     ]
    },
    {
     "name": "stdout",
     "output_type": "stream",
     "text": [
      "\n",
      "Processing 'test' split...\n"
     ]
    },
    {
     "name": "stderr",
     "output_type": "stream",
     "text": [
      "Drawing boxes on test images: 100%|████████████████████████████████████████████████| 1242/1242 [00:14<00:00, 87.93it/s]"
     ]
    },
    {
     "name": "stdout",
     "output_type": "stream",
     "text": [
      "\n",
      "Processing complete!\n"
     ]
    },
    {
     "name": "stderr",
     "output_type": "stream",
     "text": [
      "\n"
     ]
    }
   ],
   "source": [
    "if __name__ == '__main__':\n",
    "    # Load class names from data.yaml\n",
    "    try:\n",
    "        with open(DATA_YAML_PATH, 'r') as f:\n",
    "            data_yaml = yaml.safe_load(f)\n",
    "            CLASS_NAMES = {i: name for i, name in enumerate(data_yaml['names'])}\n",
    "    except Exception as e:\n",
    "        print(f\"Could not read {DATA_YAML_PATH}, using default names. Error: {e}\")\n",
    "        CLASS_NAMES = {0: 'space-empty', 1: 'space-occupied'}\n",
    "\n",
    "    # Define colors for each class\n",
    "    CLASS_COLORS = {\n",
    "        'space-empty': (0, 255, 0),    # Green\n",
    "        'space-occupied': (0, 0, 255) # Red\n",
    "    }\n",
    "\n",
    "    # Create the base output directory\n",
    "    os.makedirs(OUTPUT_BASE_DIR, exist_ok=True)\n",
    "    print(f\"Output will be saved to: {OUTPUT_BASE_DIR}\")\n",
    "\n",
    "    # Process all splits\n",
    "    splits_to_process = ['train', 'valid', 'test']\n",
    "    for split in splits_to_process:\n",
    "        draw_boxes_for_split(split)\n",
    "\n",
    "    print(\"\\nProcessing complete!\")"
   ]
  },
  {
   "cell_type": "code",
   "execution_count": null,
   "id": "78565d1b-1db7-4e66-adb9-1cd44467c06d",
   "metadata": {},
   "outputs": [],
   "source": []
  },
  {
   "cell_type": "code",
   "execution_count": null,
   "id": "98179bd2-4315-4416-b03b-b615c4467b40",
   "metadata": {},
   "outputs": [],
   "source": []
  },
  {
   "cell_type": "code",
   "execution_count": null,
   "id": "74d18155-7d70-4722-b785-f6204c66fd30",
   "metadata": {},
   "outputs": [],
   "source": []
  },
  {
   "cell_type": "code",
   "execution_count": null,
   "id": "908ab02d-9dc2-4f18-a105-294531bdbf93",
   "metadata": {},
   "outputs": [],
   "source": []
  },
  {
   "cell_type": "code",
   "execution_count": null,
   "id": "4d33673a-29c8-4908-a849-e3f8b8c4631c",
   "metadata": {},
   "outputs": [],
   "source": []
  },
  {
   "cell_type": "code",
   "execution_count": null,
   "id": "9f496ee4-88c0-4ae5-8e7a-501222f4d981",
   "metadata": {},
   "outputs": [],
   "source": []
  },
  {
   "cell_type": "code",
   "execution_count": null,
   "id": "ec3fd66d-ff93-43d6-9a2b-f5de89b07ff2",
   "metadata": {},
   "outputs": [],
   "source": []
  },
  {
   "cell_type": "code",
   "execution_count": null,
   "id": "c5ea657d-4245-4ae2-a976-a606871dee42",
   "metadata": {},
   "outputs": [],
   "source": []
  },
  {
   "cell_type": "code",
   "execution_count": null,
   "id": "771f1654-a398-4246-b63f-bc174a2dfbf1",
   "metadata": {},
   "outputs": [],
   "source": []
  },
  {
   "cell_type": "code",
   "execution_count": null,
   "id": "ffcdc0db-3a87-49b1-8d2f-3db6e9c31a56",
   "metadata": {},
   "outputs": [],
   "source": []
  },
  {
   "cell_type": "code",
   "execution_count": null,
   "id": "4b0132d6-c924-49f8-93cf-0ca01ee1ff2e",
   "metadata": {},
   "outputs": [],
   "source": []
  },
  {
   "cell_type": "code",
   "execution_count": null,
   "id": "564adf32-8e56-49a8-9512-82a8ce9464c4",
   "metadata": {},
   "outputs": [],
   "source": []
  },
  {
   "cell_type": "code",
   "execution_count": null,
   "id": "8761ccc8-6608-48bb-9a05-fd99547cc579",
   "metadata": {},
   "outputs": [],
   "source": []
  }
 ],
 "metadata": {
  "kernelspec": {
   "display_name": "Python 3 (ipykernel)",
   "language": "python",
   "name": "python3"
  },
  "language_info": {
   "codemirror_mode": {
    "name": "ipython",
    "version": 3
   },
   "file_extension": ".py",
   "mimetype": "text/x-python",
   "name": "python",
   "nbconvert_exporter": "python",
   "pygments_lexer": "ipython3",
   "version": "3.11.13"
  }
 },
 "nbformat": 4,
 "nbformat_minor": 5
}
